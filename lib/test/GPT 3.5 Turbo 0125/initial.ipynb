{
 "cells": [
  {
   "cell_type": "code",
   "execution_count": 19,
   "metadata": {},
   "outputs": [],
   "source": [
    "# required imports/libraries\n",
    "import os\n",
    "import torch\n",
    "import pandas as pd\n",
    "from torch import tensor\n",
    "from dotenv import load_dotenv\n",
    "from openai import OpenAI\n",
    "from transformers import AutoTokenizer, AutoModel\n",
    "from sentence_transformers import SentenceTransformer, util"
   ]
  },
  {
   "cell_type": "code",
   "execution_count": 20,
   "metadata": {},
   "outputs": [],
   "source": [
    "# load .env file values \n",
    "load_dotenv()\n",
    "\n",
    "# insert OpenAI API key in here from .env\n",
    "openai_api_key = os.getenv('OPENAI_KEY')\n",
    "\n",
    "tokenizer = AutoTokenizer.from_pretrained(\"bert-base-uncased\")\n",
    "autoModel = AutoModel.from_pretrained(\"bert-base-uncased\")\n",
    "# model = SentenceTransformer(\"all-MiniLM-L6-v2\")"
   ]
  },
  {
   "cell_type": "code",
   "execution_count": 21,
   "metadata": {},
   "outputs": [],
   "source": [
    "# instantiate OpenAI client with API key\n",
    "client = OpenAI(\n",
    "    api_key=openai_api_key\n",
    ")"
   ]
  },
  {
   "cell_type": "code",
   "execution_count": 22,
   "metadata": {},
   "outputs": [],
   "source": [
    "# Function to encode a single string\n",
    "def encode_text(text):\n",
    "    # Tokenize the input text\n",
    "    encoded_input = tokenizer(text, return_tensors=\"pt\", truncation=True, padding=True)\n",
    "    \n",
    "    # Get the model output\n",
    "    with torch.no_grad():\n",
    "        output = autoModel(**encoded_input)\n",
    "    \n",
    "    # Use the mean pooling of token embeddings as the sentence embedding\n",
    "    sentence_embedding = output.last_hidden_state.mean(dim=1)\n",
    "    return sentence_embedding"
   ]
  },
  {
   "cell_type": "code",
   "execution_count": 23,
   "metadata": {},
   "outputs": [],
   "source": [
    "# tests accuracy of chosen model against unique prompt and data\n",
    "def evaluation(data, evaluation_prompt, model_name):\n",
    "\n",
    "    # Create a DataFrame to store results\n",
    "    test = pd.DataFrame(columns=['Question', 'Expected Answer', 'GPT Answer', 'Similarity'])\n",
    "\n",
    "    # Iterate through dataset and generate GPT answers\n",
    "    for index, row in data.iterrows():\n",
    "        # Extract the question\n",
    "        question = row['Question']\n",
    "        expected_answer = row['Answer']\n",
    "\n",
    "        # Generate response from GPT model\n",
    "        completion = client.chat.completions.create(\n",
    "            model=model_name,\n",
    "            messages=[\n",
    "                {\"role\": \"system\", \"content\": evaluation_prompt},\n",
    "                {\"role\": \"user\", \"content\": question}\n",
    "            ]\n",
    "        )\n",
    "        gpt_answer = completion.choices[0].message.content.strip()\n",
    "\n",
    "        # Add results to DataFrame\n",
    "        test.loc[index] = [question, expected_answer, gpt_answer, None]\n",
    "\n",
    "    return test"
   ]
  },
  {
   "cell_type": "code",
   "execution_count": 24,
   "metadata": {},
   "outputs": [
    {
     "data": {
      "text/html": [
       "<div>\n",
       "<style scoped>\n",
       "    .dataframe tbody tr th:only-of-type {\n",
       "        vertical-align: middle;\n",
       "    }\n",
       "\n",
       "    .dataframe tbody tr th {\n",
       "        vertical-align: top;\n",
       "    }\n",
       "\n",
       "    .dataframe thead th {\n",
       "        text-align: right;\n",
       "    }\n",
       "</style>\n",
       "<table border=\"1\" class=\"dataframe\">\n",
       "  <thead>\n",
       "    <tr style=\"text-align: right;\">\n",
       "      <th></th>\n",
       "      <th>Question</th>\n",
       "      <th>Answer</th>\n",
       "    </tr>\n",
       "  </thead>\n",
       "  <tbody>\n",
       "    <tr>\n",
       "      <th>0</th>\n",
       "      <td>Abraham Lincoln sixteenth President United States</td>\n",
       "      <td>yes</td>\n",
       "    </tr>\n",
       "    <tr>\n",
       "      <th>1</th>\n",
       "      <td>Lincoln sign National Banking Act 1863</td>\n",
       "      <td>yes</td>\n",
       "    </tr>\n",
       "    <tr>\n",
       "      <th>2</th>\n",
       "      <td>mother die pneumonia</td>\n",
       "      <td>NaN</td>\n",
       "    </tr>\n",
       "    <tr>\n",
       "      <th>3</th>\n",
       "      <td>many long Lincolns formal education</td>\n",
       "      <td>18 months</td>\n",
       "    </tr>\n",
       "    <tr>\n",
       "      <th>4</th>\n",
       "      <td>Lincoln begin political career</td>\n",
       "      <td>1832</td>\n",
       "    </tr>\n",
       "    <tr>\n",
       "      <th>...</th>\n",
       "      <td>...</td>\n",
       "      <td>...</td>\n",
       "    </tr>\n",
       "    <tr>\n",
       "      <th>913</th>\n",
       "      <td>Wilson president American Political Science As...</td>\n",
       "      <td>Yes</td>\n",
       "    </tr>\n",
       "    <tr>\n",
       "      <th>914</th>\n",
       "      <td>cast ballot John Palmer presidential candidate...</td>\n",
       "      <td>Yes</td>\n",
       "    </tr>\n",
       "    <tr>\n",
       "      <th>915</th>\n",
       "      <td>Wilson spend 1914 beginning 1917 trying keep A...</td>\n",
       "      <td>Yes</td>\n",
       "    </tr>\n",
       "    <tr>\n",
       "      <th>916</th>\n",
       "      <td>Wilson staunch opponent antisemitism sympathet...</td>\n",
       "      <td>Yes</td>\n",
       "    </tr>\n",
       "    <tr>\n",
       "      <th>917</th>\n",
       "      <td>happened 1917</td>\n",
       "      <td>raised billions Liberty loans imposed income t...</td>\n",
       "    </tr>\n",
       "  </tbody>\n",
       "</table>\n",
       "<p>918 rows × 2 columns</p>\n",
       "</div>"
      ],
      "text/plain": [
       "                                              Question  \\\n",
       "0    Abraham Lincoln sixteenth President United States   \n",
       "1               Lincoln sign National Banking Act 1863   \n",
       "2                                 mother die pneumonia   \n",
       "3                  many long Lincolns formal education   \n",
       "4                       Lincoln begin political career   \n",
       "..                                                 ...   \n",
       "913  Wilson president American Political Science As...   \n",
       "914  cast ballot John Palmer presidential candidate...   \n",
       "915  Wilson spend 1914 beginning 1917 trying keep A...   \n",
       "916  Wilson staunch opponent antisemitism sympathet...   \n",
       "917                                      happened 1917   \n",
       "\n",
       "                                                Answer  \n",
       "0                                                  yes  \n",
       "1                                                  yes  \n",
       "2                                                  NaN  \n",
       "3                                            18 months  \n",
       "4                                                 1832  \n",
       "..                                                 ...  \n",
       "913                                                Yes  \n",
       "914                                                Yes  \n",
       "915                                                Yes  \n",
       "916                                                Yes  \n",
       "917  raised billions Liberty loans imposed income t...  \n",
       "\n",
       "[918 rows x 2 columns]"
      ]
     },
     "execution_count": 24,
     "metadata": {},
     "output_type": "execute_result"
    }
   ],
   "source": [
    "# retrieves data to test accuracy against model of choice\n",
    "df = pd.read_csv('../../data/evaluation_data.csv')\n",
    "df = df.drop(columns=['Unnamed: 0'])\n",
    "df"
   ]
  },
  {
   "cell_type": "code",
   "execution_count": 25,
   "metadata": {},
   "outputs": [],
   "source": [
    "# test chat bot with general model or fine-tuning model of choice\n",
    "# *model* should include available OpenAI models for evaluation from link above\n",
    "model = \"gpt-3.5-turbo-0125\"\n",
    "evaluation_prompt = \"Answer questions from this wikipedia dataset\""
   ]
  },
  {
   "cell_type": "code",
   "execution_count": 26,
   "metadata": {},
   "outputs": [],
   "source": [
    "# execute function for testing model against unique samples\n",
    "result = evaluation(df, evaluation_prompt, model)"
   ]
  },
  {
   "cell_type": "code",
   "execution_count": 27,
   "metadata": {},
   "outputs": [
    {
     "data": {
      "text/html": [
       "<div>\n",
       "<style scoped>\n",
       "    .dataframe tbody tr th:only-of-type {\n",
       "        vertical-align: middle;\n",
       "    }\n",
       "\n",
       "    .dataframe tbody tr th {\n",
       "        vertical-align: top;\n",
       "    }\n",
       "\n",
       "    .dataframe thead th {\n",
       "        text-align: right;\n",
       "    }\n",
       "</style>\n",
       "<table border=\"1\" class=\"dataframe\">\n",
       "  <thead>\n",
       "    <tr style=\"text-align: right;\">\n",
       "      <th></th>\n",
       "      <th>Question</th>\n",
       "      <th>Expected Answer</th>\n",
       "      <th>GPT Answer</th>\n",
       "      <th>Similarity</th>\n",
       "    </tr>\n",
       "  </thead>\n",
       "  <tbody>\n",
       "    <tr>\n",
       "      <th>0</th>\n",
       "      <td>Abraham Lincoln sixteenth President United States</td>\n",
       "      <td>yes</td>\n",
       "      <td>Abraham Lincoln was the 16th President of the ...</td>\n",
       "      <td>None</td>\n",
       "    </tr>\n",
       "    <tr>\n",
       "      <th>1</th>\n",
       "      <td>Lincoln sign National Banking Act 1863</td>\n",
       "      <td>yes</td>\n",
       "      <td>The National Banking Act of 1863 was signed in...</td>\n",
       "      <td>None</td>\n",
       "    </tr>\n",
       "    <tr>\n",
       "      <th>2</th>\n",
       "      <td>mother die pneumonia</td>\n",
       "      <td>NaN</td>\n",
       "      <td>I'm sorry to hear that. Pneumonia is a serious...</td>\n",
       "      <td>None</td>\n",
       "    </tr>\n",
       "    <tr>\n",
       "      <th>3</th>\n",
       "      <td>many long Lincolns formal education</td>\n",
       "      <td>18 months</td>\n",
       "      <td>Abraham Lincoln had very little formal educati...</td>\n",
       "      <td>None</td>\n",
       "    </tr>\n",
       "    <tr>\n",
       "      <th>4</th>\n",
       "      <td>Lincoln begin political career</td>\n",
       "      <td>1832</td>\n",
       "      <td>Abraham Lincoln started his political career i...</td>\n",
       "      <td>None</td>\n",
       "    </tr>\n",
       "    <tr>\n",
       "      <th>...</th>\n",
       "      <td>...</td>\n",
       "      <td>...</td>\n",
       "      <td>...</td>\n",
       "      <td>...</td>\n",
       "    </tr>\n",
       "    <tr>\n",
       "      <th>913</th>\n",
       "      <td>Wilson president American Political Science As...</td>\n",
       "      <td>Yes</td>\n",
       "      <td>Woodrow Wilson served as the president of the ...</td>\n",
       "      <td>None</td>\n",
       "    </tr>\n",
       "    <tr>\n",
       "      <th>914</th>\n",
       "      <td>cast ballot John Palmer presidential candidate...</td>\n",
       "      <td>Yes</td>\n",
       "      <td>I'm sorry, I couldn't find any information spe...</td>\n",
       "      <td>None</td>\n",
       "    </tr>\n",
       "    <tr>\n",
       "      <th>915</th>\n",
       "      <td>Wilson spend 1914 beginning 1917 trying keep A...</td>\n",
       "      <td>Yes</td>\n",
       "      <td>It seems like there might be a typo in your qu...</td>\n",
       "      <td>None</td>\n",
       "    </tr>\n",
       "    <tr>\n",
       "      <th>916</th>\n",
       "      <td>Wilson staunch opponent antisemitism sympathet...</td>\n",
       "      <td>Yes</td>\n",
       "      <td>It seems like you are referring to Woodrow Wil...</td>\n",
       "      <td>None</td>\n",
       "    </tr>\n",
       "    <tr>\n",
       "      <th>917</th>\n",
       "      <td>happened 1917</td>\n",
       "      <td>raised billions Liberty loans imposed income t...</td>\n",
       "      <td>Several significant events happened in 1917. S...</td>\n",
       "      <td>None</td>\n",
       "    </tr>\n",
       "  </tbody>\n",
       "</table>\n",
       "<p>918 rows × 4 columns</p>\n",
       "</div>"
      ],
      "text/plain": [
       "                                              Question  \\\n",
       "0    Abraham Lincoln sixteenth President United States   \n",
       "1               Lincoln sign National Banking Act 1863   \n",
       "2                                 mother die pneumonia   \n",
       "3                  many long Lincolns formal education   \n",
       "4                       Lincoln begin political career   \n",
       "..                                                 ...   \n",
       "913  Wilson president American Political Science As...   \n",
       "914  cast ballot John Palmer presidential candidate...   \n",
       "915  Wilson spend 1914 beginning 1917 trying keep A...   \n",
       "916  Wilson staunch opponent antisemitism sympathet...   \n",
       "917                                      happened 1917   \n",
       "\n",
       "                                       Expected Answer  \\\n",
       "0                                                  yes   \n",
       "1                                                  yes   \n",
       "2                                                  NaN   \n",
       "3                                            18 months   \n",
       "4                                                 1832   \n",
       "..                                                 ...   \n",
       "913                                                Yes   \n",
       "914                                                Yes   \n",
       "915                                                Yes   \n",
       "916                                                Yes   \n",
       "917  raised billions Liberty loans imposed income t...   \n",
       "\n",
       "                                            GPT Answer Similarity  \n",
       "0    Abraham Lincoln was the 16th President of the ...       None  \n",
       "1    The National Banking Act of 1863 was signed in...       None  \n",
       "2    I'm sorry to hear that. Pneumonia is a serious...       None  \n",
       "3    Abraham Lincoln had very little formal educati...       None  \n",
       "4    Abraham Lincoln started his political career i...       None  \n",
       "..                                                 ...        ...  \n",
       "913  Woodrow Wilson served as the president of the ...       None  \n",
       "914  I'm sorry, I couldn't find any information spe...       None  \n",
       "915  It seems like there might be a typo in your qu...       None  \n",
       "916  It seems like you are referring to Woodrow Wil...       None  \n",
       "917  Several significant events happened in 1917. S...       None  \n",
       "\n",
       "[918 rows x 4 columns]"
      ]
     },
     "execution_count": 27,
     "metadata": {},
     "output_type": "execute_result"
    }
   ],
   "source": [
    "result"
   ]
  },
  {
   "cell_type": "code",
   "execution_count": 28,
   "metadata": {},
   "outputs": [],
   "source": [
    "# Clean and preprocess the data\n",
    "result['Expected Answer'] = result['Expected Answer'].fillna(\"\").astype(str)\n",
    "result['GPT Answer'] = result['GPT Answer'].fillna(\"\").astype(str)"
   ]
  },
  {
   "cell_type": "code",
   "execution_count": 29,
   "metadata": {},
   "outputs": [],
   "source": [
    "# Generate embeddings for 'Expected Answer'\n",
    "dataset_embeddings = torch.stack([encode_text(answer) for answer in result['Expected Answer'].tolist()])\n",
    "\n",
    "# Generate embeddings for 'GPT Answer'\n",
    "gpt_embeddings = torch.stack([encode_text(answer) for answer in result['GPT Answer'].tolist()])"
   ]
  },
  {
   "cell_type": "code",
   "execution_count": 30,
   "metadata": {},
   "outputs": [
    {
     "name": "stdout",
     "output_type": "stream",
     "text": [
      "Cosine Similarities: tensor([[-1.,  1.,  1.,  ..., -1., -1.,  1.],\n",
      "        [-1.,  1.,  1.,  ..., -1., -1.,  1.],\n",
      "        [ 1.,  1., -1.,  ..., -1.,  1., -1.],\n",
      "        ...,\n",
      "        [-1.,  1.,  1.,  ...,  1.,  1.,  1.],\n",
      "        [-1.,  1.,  1.,  ..., -1., -1.,  1.],\n",
      "        [-1., -1., -1.,  ...,  1.,  1., -1.]])\n"
     ]
    }
   ],
   "source": [
    "# Example comparison (cosine similarity)\n",
    "cosine_sim = torch.nn.functional.cosine_similarity(dataset_embeddings, gpt_embeddings)\n",
    "print(\"Cosine Similarities:\", cosine_sim)"
   ]
  },
  {
   "cell_type": "code",
   "execution_count": 31,
   "metadata": {},
   "outputs": [],
   "source": [
    "result['Similarity'] = cosine_sim\n",
    "\n",
    "# Compute accuracy based on similarity threshold (e.g., 0.8)\n",
    "threshold = 0.8\n",
    "correct = result[result['Similarity'] > threshold].shape[0]\n",
    "total = result.shape[0]\n",
    "accuracy = correct / total * 100"
   ]
  },
  {
   "cell_type": "code",
   "execution_count": 32,
   "metadata": {},
   "outputs": [
    {
     "data": {
      "text/plain": [
       "42.70152505446623"
      ]
     },
     "execution_count": 32,
     "metadata": {},
     "output_type": "execute_result"
    }
   ],
   "source": [
    "accuracy"
   ]
  },
  {
   "cell_type": "code",
   "execution_count": 33,
   "metadata": {},
   "outputs": [
    {
     "name": "stdout",
     "output_type": "stream",
     "text": [
      "Accuracy: 42.70%\n"
     ]
    }
   ],
   "source": [
    "# accuracy result 43.4640522875817\n",
    "print(f\"Accuracy: {accuracy * 1:.2f}%\")"
   ]
  }
 ],
 "metadata": {
  "kernelspec": {
   "display_name": "env",
   "language": "python",
   "name": "python3"
  },
  "language_info": {
   "codemirror_mode": {
    "name": "ipython",
    "version": 3
   },
   "file_extension": ".py",
   "mimetype": "text/x-python",
   "name": "python",
   "nbconvert_exporter": "python",
   "pygments_lexer": "ipython3",
   "version": "3.10.11"
  }
 },
 "nbformat": 4,
 "nbformat_minor": 2
}
