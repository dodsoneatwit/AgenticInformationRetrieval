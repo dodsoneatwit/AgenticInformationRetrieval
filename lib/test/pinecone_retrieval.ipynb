{
 "cells": [
  {
   "cell_type": "code",
   "execution_count": null,
   "metadata": {},
   "outputs": [],
   "source": [
    "from langchain_openai import OpenAIEmbeddings\n",
    "from langchain_core.output_parsers import StrOutputParser\n",
    "from langchain_pinecone import Pinecone\n",
    "import os"
   ]
  },
  {
   "cell_type": "code",
   "execution_count": null,
   "metadata": {},
   "outputs": [],
   "source": [
    "PINECONE_API_KEY = 'a7c4e75b-c3e3-4df0-862d-a9d22f030fe6'\n",
    "PINECONE_INDEX_NAME = 'aitwentyone'\n",
    "OPENAI_API_KEY = 'sk-proj-gnB8KP0GbrXROIZmAYRKT3BlbkFJveplnj1LUDtIpQcpH1ya'"
   ]
  },
  {
   "cell_type": "code",
   "execution_count": null,
   "metadata": {},
   "outputs": [],
   "source": [
    "# Apply API keys for OpenAI, AI21, and Pinecone\n",
    "os.environ['OPENAI_API_KEY'] = OPENAI_API_KEY\n",
    "os.environ[\"PINECONE_API_KEY\"] = PINECONE_API_KEY\n",
    "os.environ[\"PINECONE_ENVIRONMENT\"] = \"\""
   ]
  },
  {
   "cell_type": "code",
   "execution_count": null,
   "metadata": {},
   "outputs": [],
   "source": [
    "# initializing Pinecone vector database instance\n",
    "docSearch = Pinecone(\n",
    "    index_name=PINECONE_INDEX_NAME,\n",
    "    embedding=OpenAIEmbeddings()\n",
    ")"
   ]
  },
  {
   "cell_type": "code",
   "execution_count": null,
   "metadata": {},
   "outputs": [],
   "source": [
    "question = \"What are the courses for the first spring semester of the bachelors of IT?\"\n",
    "\n",
    "# Search for results within the database related to the question\n",
    "query_result = docSearch.max_marginal_relevance_search(question, k=10, fetch_k=50)\n",
    "found_docs = \"\""
   ]
  }
 ],
 "metadata": {
  "language_info": {
   "name": "python"
  }
 },
 "nbformat": 4,
 "nbformat_minor": 2
}
