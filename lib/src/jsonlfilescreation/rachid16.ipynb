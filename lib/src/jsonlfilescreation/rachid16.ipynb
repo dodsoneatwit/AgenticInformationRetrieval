{
 "cells": [
  {
   "cell_type": "code",
   "execution_count": 12,
   "metadata": {},
   "outputs": [],
   "source": [
    "# required imports/libraries\n",
    "import os\n",
    "import math\n",
    "import json\n",
    "import pandas as pd\n",
    "from dotenv import load_dotenv\n",
    "from openai import OpenAI"
   ]
  },
  {
   "cell_type": "code",
   "execution_count": 13,
   "metadata": {},
   "outputs": [],
   "source": [
    "# retrieve preprocessed set of choice for fine-tuning\n",
    "training_set = pd.read_csv('../../data/training/rachid16_training_data.csv')"
   ]
  },
  {
   "cell_type": "code",
   "execution_count": 14,
   "metadata": {},
   "outputs": [],
   "source": [
    "training_json = []\n",
    "evaluation_prompt = 'Answer the following question concisely and accurately'\n",
    "# Read the evaluation prompt from the text file of choice with utf-8 encoding\n",
    "# with open(\"./data/text/fine_tuned_prompts/gpt-4-two-shot-prompt.txt\", \"r\", encoding=\"utf-8\") as file:\n",
    "#     evaluation_prompt += file.read()"
   ]
  },
  {
   "cell_type": "code",
   "execution_count": 15,
   "metadata": {},
   "outputs": [],
   "source": [
    "# appends text and toxic values to a readable format for GPT models\n",
    "# can input prompt of choice within system->content through hard write or from file\n",
    "for index, row in training_set.iterrows():\n",
    "    training_json.append({\n",
    "        \"messages\" : [\n",
    "            {\n",
    "                \"role\": \"system\", \n",
    "                \"content\": evaluation_prompt\n",
    "            },\n",
    "            {\n",
    "                \"role\": \"user\",\n",
    "                \"content\": row['Question']\n",
    "            },\n",
    "            {\n",
    "                \"role\": \"assistant\",\n",
    "                \"content\": str(row['Answer'])\n",
    "            },\n",
    "        ]\n",
    "    })"
   ]
  },
  {
   "cell_type": "code",
   "execution_count": 19,
   "metadata": {},
   "outputs": [
    {
     "data": {
      "text/plain": [
       "500"
      ]
     },
     "execution_count": 19,
     "metadata": {},
     "output_type": "execute_result"
    }
   ],
   "source": [
    "# half length of dataset\n",
    "half = math.floor((len(training_json) / 2) / 10)\n",
    "half"
   ]
  },
  {
   "cell_type": "code",
   "execution_count": 21,
   "metadata": {},
   "outputs": [],
   "source": [
    "# trains first half and validates second half\n",
    "training = training_json[:half]\n",
    "validation = training_json[half: half * 2]"
   ]
  },
  {
   "cell_type": "code",
   "execution_count": 22,
   "metadata": {},
   "outputs": [
    {
     "data": {
      "text/plain": [
       "500"
      ]
     },
     "execution_count": 22,
     "metadata": {},
     "output_type": "execute_result"
    }
   ],
   "source": [
    "len(training)"
   ]
  },
  {
   "cell_type": "code",
   "execution_count": 23,
   "metadata": {},
   "outputs": [
    {
     "data": {
      "text/plain": [
       "500"
      ]
     },
     "execution_count": 23,
     "metadata": {},
     "output_type": "execute_result"
    }
   ],
   "source": [
    "len(validation)"
   ]
  },
  {
   "cell_type": "code",
   "execution_count": 24,
   "metadata": {},
   "outputs": [],
   "source": [
    "# saves training and validation data to jsonl format for finetuning and validation\n",
    "with open('../../data/jsonl/rachid16_training_data.jsonl', 'w') as f:\n",
    "    for entry in training_json:\n",
    "        f.write(f\"{json.dumps(entry)}\\n\")\n",
    "\n",
    "with open('../../data/jsonl/rachid16_validation_data.jsonl', 'w') as f:\n",
    "    for entry in validation:\n",
    "        f.write(f\"{json.dumps(entry)}\\n\")"
   ]
  }
 ],
 "metadata": {
  "kernelspec": {
   "display_name": "env",
   "language": "python",
   "name": "python3"
  },
  "language_info": {
   "codemirror_mode": {
    "name": "ipython",
    "version": 3
   },
   "file_extension": ".py",
   "mimetype": "text/x-python",
   "name": "python",
   "nbconvert_exporter": "python",
   "pygments_lexer": "ipython3",
   "version": "3.10.11"
  }
 },
 "nbformat": 4,
 "nbformat_minor": 2
}
