{
 "cells": [
  {
   "cell_type": "code",
   "execution_count": 3,
   "metadata": {},
   "outputs": [],
   "source": [
    "# Standard library imports\n",
    "import os\n",
    "import re\n",
    "import math\n",
    "import json\n",
    "from collections import Counter\n",
    "\n",
    "# Third-party library imports\n",
    "import numpy as np\n",
    "import pandas as pd\n",
    "from datasets import load_dataset\n",
    "from dotenv import load_dotenv\n",
    "from nltk.corpus import stopwords\n",
    "from nltk.tokenize import word_tokenize\n",
    "\n",
    "# LangChain imports\n",
    "from langchain.schema import Document\n",
    "from langchain_pinecone import PineconeVectorStore, Pinecone\n",
    "from langchain_core.output_parsers import StrOutputParser\n",
    "from langchain_openai import OpenAIEmbeddings\n",
    "from langchain_experimental.text_splitter import SemanticChunker\n",
    "from langchain_openai.embeddings import OpenAIEmbeddings\n",
    "\n",
    "# Setup stop words for NLP\n",
    "stop_words = set(stopwords.words('english'))\n"
   ]
  },
  {
   "cell_type": "code",
   "execution_count": 4,
   "metadata": {},
   "outputs": [
    {
     "data": {
      "text/plain": [
       "True"
      ]
     },
     "execution_count": 4,
     "metadata": {},
     "output_type": "execute_result"
    }
   ],
   "source": [
    "# process .env file\n",
    "load_dotenv()"
   ]
  },
  {
   "cell_type": "code",
   "execution_count": 5,
   "metadata": {},
   "outputs": [],
   "source": [
    "# Access the environment variables\n",
    "openai_api_key = os.getenv('OPENAI_KEY')\n",
    "pinecone_api_key = os.getenv('PINECONE_API_KEY')\n",
    "pc_index = os.getenv('PINECONE_CONTEXT')"
   ]
  },
  {
   "cell_type": "code",
   "execution_count": 6,
   "metadata": {},
   "outputs": [],
   "source": [
    "# function for tokenization and special character and stopword removal\n",
    "def clean(data):\n",
    "    # regex removes punctuation and special characters\n",
    "    no_punctuation_and_specials = re.sub(r'[^\\w\\s]', '', str(data))\n",
    "\n",
    "    # tokenizing step\n",
    "    tokens = word_tokenize(str(no_punctuation_and_specials))\n",
    "\n",
    "    # stopword removal\n",
    "    filtered_tokens = [str(word) for word in tokens if word.lower() not in stop_words]\n",
    "\n",
    "    # returns tokenized text in sentence format\n",
    "    return \" \".join(filtered_tokens)"
   ]
  },
  {
   "cell_type": "code",
   "execution_count": 7,
   "metadata": {},
   "outputs": [],
   "source": [
    "# general function for preprocessing data\n",
    "def preprocess(data):\n",
    "    # includes only needed columns\n",
    "    data = data[['context']]\n",
    "    data.loc[:,'context'] = data['context'].apply(clean) # applies preprocessing function\n",
    "    data = data.reset_index(drop=True)\n",
    "    data.columns = ['Passage'] # renames column names\n",
    "    return data"
   ]
  },
  {
   "cell_type": "code",
   "execution_count": 8,
   "metadata": {},
   "outputs": [],
   "source": [
    "embeddings = OpenAIEmbeddings()"
   ]
  },
  {
   "cell_type": "code",
   "execution_count": 28,
   "metadata": {},
   "outputs": [
    {
     "data": {
      "text/html": [
       "<div>\n",
       "<style scoped>\n",
       "    .dataframe tbody tr th:only-of-type {\n",
       "        vertical-align: middle;\n",
       "    }\n",
       "\n",
       "    .dataframe tbody tr th {\n",
       "        vertical-align: top;\n",
       "    }\n",
       "\n",
       "    .dataframe thead th {\n",
       "        text-align: right;\n",
       "    }\n",
       "</style>\n",
       "<table border=\"1\" class=\"dataframe\">\n",
       "  <thead>\n",
       "    <tr style=\"text-align: right;\">\n",
       "      <th></th>\n",
       "      <th>question</th>\n",
       "      <th>context</th>\n",
       "      <th>answer</th>\n",
       "    </tr>\n",
       "  </thead>\n",
       "  <tbody>\n",
       "    <tr>\n",
       "      <th>0</th>\n",
       "      <td>Sort these into breakfast or dinner foods: Waf...</td>\n",
       "      <td></td>\n",
       "      <td>The breakfast foods are waffles, pancakes and ...</td>\n",
       "    </tr>\n",
       "    <tr>\n",
       "      <th>1</th>\n",
       "      <td>Do salicylates dilate blood vessels through in...</td>\n",
       "      <td>Compared with other non-steroid anti-inflammat...</td>\n",
       "      <td>Salicylates dilate blood vessels through inhib...</td>\n",
       "    </tr>\n",
       "    <tr>\n",
       "      <th>2</th>\n",
       "      <td>Do perioperative factors determine outcome aft...</td>\n",
       "      <td>There is evidence that postponing surgery in c...</td>\n",
       "      <td>In this cohort of critically ill patients oper...</td>\n",
       "    </tr>\n",
       "    <tr>\n",
       "      <th>3</th>\n",
       "      <td>Is rs219780 SNP of Claudin 14 Gene Related to ...</td>\n",
       "      <td>The CLDN14 gene encodes a protein involved in ...</td>\n",
       "      <td>rs219780 SNP of CLDN14 does not appear to be a...</td>\n",
       "    </tr>\n",
       "    <tr>\n",
       "      <th>4</th>\n",
       "      <td>Which NFL team has the most Super Bowl champio...</td>\n",
       "      <td></td>\n",
       "      <td>The Pittsburgh Steelers and the New England Pa...</td>\n",
       "    </tr>\n",
       "  </tbody>\n",
       "</table>\n",
       "</div>"
      ],
      "text/plain": [
       "                                            question  \\\n",
       "0  Sort these into breakfast or dinner foods: Waf...   \n",
       "1  Do salicylates dilate blood vessels through in...   \n",
       "2  Do perioperative factors determine outcome aft...   \n",
       "3  Is rs219780 SNP of Claudin 14 Gene Related to ...   \n",
       "4  Which NFL team has the most Super Bowl champio...   \n",
       "\n",
       "                                             context  \\\n",
       "0                                                      \n",
       "1  Compared with other non-steroid anti-inflammat...   \n",
       "2  There is evidence that postponing surgery in c...   \n",
       "3  The CLDN14 gene encodes a protein involved in ...   \n",
       "4                                                      \n",
       "\n",
       "                                              answer  \n",
       "0  The breakfast foods are waffles, pancakes and ...  \n",
       "1  Salicylates dilate blood vessels through inhib...  \n",
       "2  In this cohort of critically ill patients oper...  \n",
       "3  rs219780 SNP of CLDN14 does not appear to be a...  \n",
       "4  The Pittsburgh Steelers and the New England Pa...  "
      ]
     },
     "execution_count": 28,
     "metadata": {},
     "output_type": "execute_result"
    }
   ],
   "source": [
    "documents = []\n",
    "rag_dataset = load_dataset(\"rachid16/rag_finetuning_data\", split='train')\n",
    "unpreprocessed_dataset = pd.DataFrame(rag_dataset)\n",
    "\n",
    "unpreprocessed_dataset.head()"
   ]
  },
  {
   "cell_type": "code",
   "execution_count": 29,
   "metadata": {},
   "outputs": [
    {
     "data": {
      "text/html": [
       "<div>\n",
       "<style scoped>\n",
       "    .dataframe tbody tr th:only-of-type {\n",
       "        vertical-align: middle;\n",
       "    }\n",
       "\n",
       "    .dataframe tbody tr th {\n",
       "        vertical-align: top;\n",
       "    }\n",
       "\n",
       "    .dataframe thead th {\n",
       "        text-align: right;\n",
       "    }\n",
       "</style>\n",
       "<table border=\"1\" class=\"dataframe\">\n",
       "  <thead>\n",
       "    <tr style=\"text-align: right;\">\n",
       "      <th></th>\n",
       "      <th>Passage</th>\n",
       "    </tr>\n",
       "  </thead>\n",
       "  <tbody>\n",
       "    <tr>\n",
       "      <th>32741</th>\n",
       "      <td></td>\n",
       "    </tr>\n",
       "    <tr>\n",
       "      <th>16062</th>\n",
       "      <td>investigate relationship tissue elasticity ant...</td>\n",
       "    </tr>\n",
       "    <tr>\n",
       "      <th>24781</th>\n",
       "      <td>Recent studies revealed microRNAs miRNAs invol...</td>\n",
       "    </tr>\n",
       "    <tr>\n",
       "      <th>22461</th>\n",
       "      <td>Purdue University football team traces origin ...</td>\n",
       "    </tr>\n",
       "    <tr>\n",
       "      <th>19831</th>\n",
       "      <td>Injuries runners common However many potential...</td>\n",
       "    </tr>\n",
       "    <tr>\n",
       "      <th>...</th>\n",
       "      <td>...</td>\n",
       "    </tr>\n",
       "    <tr>\n",
       "      <th>2433</th>\n",
       "      <td>elucidate retinal dysfunction molecular basis ...</td>\n",
       "    </tr>\n",
       "    <tr>\n",
       "      <th>16023</th>\n",
       "      <td>ability Yersinia pestis form biofilm important...</td>\n",
       "    </tr>\n",
       "    <tr>\n",
       "      <th>21962</th>\n",
       "      <td>investigate efficacy safety acarbose addon the...</td>\n",
       "    </tr>\n",
       "    <tr>\n",
       "      <th>11284</th>\n",
       "      <td>Ernest George Ernie Wilson 18 October 1900 7 J...</td>\n",
       "    </tr>\n",
       "    <tr>\n",
       "      <th>15795</th>\n",
       "      <td>Activation wnt pathway identifies subgroup hep...</td>\n",
       "    </tr>\n",
       "  </tbody>\n",
       "</table>\n",
       "<p>18097 rows × 1 columns</p>\n",
       "</div>"
      ],
      "text/plain": [
       "                                                 Passage\n",
       "32741                                                   \n",
       "16062  investigate relationship tissue elasticity ant...\n",
       "24781  Recent studies revealed microRNAs miRNAs invol...\n",
       "22461  Purdue University football team traces origin ...\n",
       "19831  Injuries runners common However many potential...\n",
       "...                                                  ...\n",
       "2433   elucidate retinal dysfunction molecular basis ...\n",
       "16023  ability Yersinia pestis form biofilm important...\n",
       "21962  investigate efficacy safety acarbose addon the...\n",
       "11284  Ernest George Ernie Wilson 18 October 1900 7 J...\n",
       "15795  Activation wnt pathway identifies subgroup hep...\n",
       "\n",
       "[18097 rows x 1 columns]"
      ]
     },
     "execution_count": 29,
     "metadata": {},
     "output_type": "execute_result"
    }
   ],
   "source": [
    "complete_dataset = preprocess(unpreprocessed_dataset).sample(frac=1, random_state=42).drop_duplicates()\n",
    "complete_dataset"
   ]
  },
  {
   "cell_type": "code",
   "execution_count": 38,
   "metadata": {},
   "outputs": [],
   "source": [
    "text_splitter = SemanticChunker(embeddings)\n",
    "for index, row in complete_dataset.iterrows():\n",
    "    # docs = text_splitter.create_documents([row['Passage']])\n",
    "    # documents.extend(docs)\n",
    "    documents.append(Document(\n",
    "        page_content=f\"{row['Passage']}\"\n",
    "    ))"
   ]
  },
  {
   "cell_type": "code",
   "execution_count": 67,
   "metadata": {},
   "outputs": [
    {
     "data": {
      "text/plain": [
       "18097"
      ]
     },
     "execution_count": 67,
     "metadata": {},
     "output_type": "execute_result"
    }
   ],
   "source": [
    "len(documents)"
   ]
  },
  {
   "cell_type": "code",
   "execution_count": 68,
   "metadata": {},
   "outputs": [
    {
     "data": {
      "text/plain": [
       "<langchain_pinecone.vectorstores.PineconeVectorStore at 0x2cd339ffdf0>"
      ]
     },
     "execution_count": 68,
     "metadata": {},
     "output_type": "execute_result"
    }
   ],
   "source": [
    "# insert splits into Pinecone vector database as embeddings\n",
    "PineconeVectorStore.from_documents(documents, embeddings, index_name=pc_index)"
   ]
  },
  {
   "cell_type": "code",
   "execution_count": 69,
   "metadata": {},
   "outputs": [],
   "source": [
    "complete_dataset.to_csv('../../data/context/rachid16.csv')"
   ]
  }
 ],
 "metadata": {
  "kernelspec": {
   "display_name": "env",
   "language": "python",
   "name": "python3"
  },
  "language_info": {
   "codemirror_mode": {
    "name": "ipython",
    "version": 3
   },
   "file_extension": ".py",
   "mimetype": "text/x-python",
   "name": "python",
   "nbconvert_exporter": "python",
   "pygments_lexer": "ipython3",
   "version": "3.10.11"
  }
 },
 "nbformat": 4,
 "nbformat_minor": 2
}
