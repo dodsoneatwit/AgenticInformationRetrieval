{
 "cells": [
  {
   "cell_type": "code",
   "execution_count": 26,
   "metadata": {},
   "outputs": [],
   "source": [
    "# required imports/libraries\n",
    "import os\n",
    "import math\n",
    "import json\n",
    "import pandas as pd\n",
    "from dotenv import load_dotenv\n",
    "from openai import OpenAI"
   ]
  },
  {
   "cell_type": "code",
   "execution_count": 27,
   "metadata": {},
   "outputs": [],
   "source": [
    "# load .env file values \n",
    "load_dotenv()\n",
    "\n",
    "# insert OpenAI API key in here from .env\n",
    "openai_key = os.getenv(\"OPENAI_KEY\")"
   ]
  },
  {
   "cell_type": "code",
   "execution_count": 28,
   "metadata": {},
   "outputs": [],
   "source": [
    "client = OpenAI(\n",
    "    api_key=openai_key\n",
    ")"
   ]
  },
  {
   "cell_type": "code",
   "execution_count": 23,
   "metadata": {},
   "outputs": [
    {
     "data": {
      "text/plain": [
       "FileObject(id='file-HfQI7URTIErIFD8ZlqlkRlkv', bytes=2197491, created_at=1731453212, filename='new_2500_validation_kaggle_toxic_classification_data.jsonl', object='file', purpose='fine-tune', status='processed', status_details=None)"
      ]
     },
     "execution_count": 23,
     "metadata": {},
     "output_type": "execute_result"
    }
   ],
   "source": [
    "client.files.create(\n",
    "  file=open(\"\", \"rb\"),\n",
    "  purpose=\"fine-tune\"\n",
    ")\n",
    "\n",
    "client.files.create(\n",
    "  file=open(\"\", \"rb\"),\n",
    "  purpose=\"fine-tune\"\n",
    ")"
   ]
  },
  {
   "cell_type": "code",
   "execution_count": 24,
   "metadata": {},
   "outputs": [
    {
     "data": {
      "text/plain": [
       "SyncPage[FileObject](data=[FileObject(id='file-HfQI7URTIErIFD8ZlqlkRlkv', bytes=2197491, created_at=1731453212, filename='new_2500_validation_kaggle_toxic_classification_data.jsonl', object='file', purpose='fine-tune', status='processed', status_details=None), FileObject(id='file-UZnEg2gbXFOT3gAzTO49nvZu', bytes=2262544, created_at=1731453210, filename='new_2500_training_kaggle_toxic_classification_data.jsonl', object='file', purpose='fine-tune', status='processed', status_details=None), FileObject(id='file-OrpaQT6PUn7SQ1nqGhLRXcTh', bytes=33620, created_at=1731445662, filename='step_metrics.csv', object='file', purpose='fine-tune-results', status='processed', status_details=None), FileObject(id='file-7Cr2QTXLVP9SStFhhzt3Dfwx', bytes=32492, created_at=1731297502, filename='step_metrics.csv', object='file', purpose='fine-tune-results', status='processed', status_details=None), FileObject(id='file-kJYVD13EjKaomidTppvhfbqS', bytes=1469663, created_at=1731294840, filename='new_validation_kaggle_toxic_classification_data.jsonl', object='file', purpose='fine-tune', status='processed', status_details=None), FileObject(id='file-NwP2wPPJskd1o7NRYF4a3k4U', bytes=1530740, created_at=1731294839, filename='new_training_kaggle_toxic_classification_data.jsonl', object='file', purpose='fine-tune', status='processed', status_details=None), FileObject(id='file-iUgNNVTLRkRONwd0x4wQxo0S', bytes=31340, created_at=1730099682, filename='step_metrics.csv', object='file', purpose='fine-tune-results', status='processed', status_details=None), FileObject(id='file-WPKuhg74ZjLRBriUMwpvBP26', bytes=1314247, created_at=1730097407, filename='unprocessed_two_thousand_validation_kaggle_toxic_classification_dataset.jsonl', object='file', purpose='fine-tune', status='processed', status_details=None), FileObject(id='file-vlOGiQQRCG6HmJajVHIjJxFu', bytes=1268455, created_at=1730097406, filename='unprocessed_two_thousand_training_kaggle_toxic_classification_dataset.jsonl', object='file', purpose='fine-tune', status='processed', status_details=None), FileObject(id='file-ha6eNWpQpU9VIyrAA7h3b1mJ', bytes=31888, created_at=1730093282, filename='step_metrics.csv', object='file', purpose='fine-tune-results', status='processed', status_details=None), FileObject(id='file-HPI70my3NvcIsEgnnSKJP445', bytes=1200903, created_at=1730090514, filename='two_half_thousand_validation_kaggle_toxic_classification_dataset.jsonl', object='file', purpose='fine-tune', status='processed', status_details=None), FileObject(id='file-aEDGQWAZl2D1787rmHqppPy9', bytes=1228164, created_at=1730090513, filename='two_half_thousand_training_kaggle_toxic_classification_dataset.jsonl', object='file', purpose='fine-tune', status='processed', status_details=None), FileObject(id='file-2gnXNgHOWktjccUN5mmiG9gw', bytes=1450234, created_at=1730090492, filename='three_thousand_validation_kaggle_toxic_classification_dataset.jsonl', object='file', purpose='fine-tune', status='processed', status_details=None), FileObject(id='file-vVruZmeNUWB9MDQMWULEdXDv', bytes=1469917, created_at=1730090491, filename='three_thousand_training_kaggle_toxic_classification_dataset.jsonl', object='file', purpose='fine-tune', status='processed', status_details=None), FileObject(id='file-4ThvqdccHg3npPI34SnlBZz4', bytes=33232, created_at=1730078475, filename='step_metrics.csv', object='file', purpose='fine-tune-results', status='processed', status_details=None), FileObject(id='file-LfEs4dr6i8a9NEVPfQLX4yQQ', bytes=1906194, created_at=1730075616, filename='four_thousand_validation_kaggle_toxic_classification_dataset.jsonl', object='file', purpose='fine-tune', status='processed', status_details=None), FileObject(id='file-AQxAJ0yOEcTcRHkwqdNDr3rv', bytes=1942706, created_at=1730075614, filename='four_thousand_training_kaggle_toxic_classification_dataset.jsonl', object='file', purpose='fine-tune', status='processed', status_details=None), FileObject(id='file-IV8B0CaY4CCDsCJcnQO1ggqV', bytes=31356, created_at=1730073669, filename='step_metrics.csv', object='file', purpose='fine-tune-results', status='processed', status_details=None), FileObject(id='file-3WO9DZOVRMHW8n8rAcmweJUJ', bytes=31396, created_at=1729287075, filename='step_metrics.csv', object='file', purpose='fine-tune-results', status='processed', status_details=None), FileObject(id='file-3N8ti1ScKNuSMze9ROqO4iV1', bytes=970886, created_at=1729284243, filename='two_thousand_validation_kaggle_toxic_classification_dataset.jsonl', object='file', purpose='fine-tune', status='processed', status_details=None), FileObject(id='file-mZiVOKQB1arwGYRjGVgqcNHS', bytes=971494, created_at=1729284242, filename='two_thousand_training_kaggle_toxic_classification_dataset.jsonl', object='file', purpose='fine-tune', status='processed', status_details=None), FileObject(id='file-IYW5X2D9wOtDsfj2v1LYbwZB', bytes=12400, created_at=1729282552, filename='step_metrics.csv', object='file', purpose='fine-tune-results', status='processed', status_details=None), FileObject(id='file-tbwvMobOm5zLmfRjMmx4kSkF', bytes=94484, created_at=1729281280, filename='two_hundred_validation_kaggle_toxic_classification_dataset.jsonl', object='file', purpose='fine-tune', status='processed', status_details=None), FileObject(id='file-NrRZdDRWgkeK5ta48fbDLlVF', bytes=97543, created_at=1729281280, filename='two_hundred_training_kaggle_toxic_classification_dataset.jsonl', object='file', purpose='fine-tune', status='processed', status_details=None), FileObject(id='file-feRD4R2Y4RJWfmIAOEKCDdNZ', bytes=3216, created_at=1729278757, filename='step_metrics.csv', object='file', purpose='fine-tune-results', status='processed', status_details=None), FileObject(id='file-tazMyfTVD71uo9VqFhETxnLm', bytes=28370, created_at=1729278224, filename='fifty_validation_kaggle_toxic_classification_dataset.jsonl', object='file', purpose='fine-tune', status='processed', status_details=None), FileObject(id='file-EZkLsIwrIvuJbTtCSe3dq59R', bytes=24485, created_at=1729278222, filename='fifty_training_kaggle_toxic_classification_dataset.jsonl', object='file', purpose='fine-tune', status='processed', status_details=None), FileObject(id='file-FJiUGNDM0BK8nVUKXLX2zLvl', bytes=41504, created_at=1727990170, filename='step_metrics.csv', object='file', purpose='fine-tune-results', status='processed', status_details=None), FileObject(id='file-UFWHTku5sU3K6GzVemhsZt0H', bytes=3847655, created_at=1727986652, filename='validation_kaggle_toxic_classification_dataset.jsonl', object='file', purpose='fine-tune', status='processed', status_details=None), FileObject(id='file-zX0Hx54u69Y73wTuxyDfTuLN', bytes=3838575, created_at=1727986651, filename='training_kaggle_toxic_classification_dataset.jsonl', object='file', purpose='fine-tune', status='processed', status_details=None), FileObject(id='file-5gCTWySFk0MgmOZ2YjQvyEZJ', bytes=41072, created_at=1727982441, filename='step_metrics.csv', object='file', purpose='fine-tune-results', status='processed', status_details=None), FileObject(id='file-FpwsaDITa0co3Z4sNvzknGGX', bytes=7686481, created_at=1727979219, filename='kaggle_toxic_classification_dataset.jsonl', object='file', purpose='fine-tune', status='processed', status_details=None), FileObject(id='file-gYnCm7EvYy3qnTJhpMJ5sNs7', bytes=78420036, created_at=1727915595, filename='kaggle_toxic_classification_dataset.jsonl', object='file', purpose='fine-tune', status='processed', status_details=None)], object='list', has_more=False, first_id='file-HfQI7URTIErIFD8ZlqlkRlkv', last_id='file-gYnCm7EvYy3qnTJhpMJ5sNs7')"
      ]
     },
     "execution_count": 24,
     "metadata": {},
     "output_type": "execute_result"
    }
   ],
   "source": [
    "client.files.list()"
   ]
  },
  {
   "cell_type": "code",
   "execution_count": 35,
   "metadata": {},
   "outputs": [
    {
     "data": {
      "text/plain": [
       "FineTuningJob(id='ftjob-ra5GjCeb2APIlNhc8QaXQ3rC', created_at=1731457739, error=Error(code=None, message=None, param=None), fine_tuned_model=None, finished_at=None, hyperparameters=Hyperparameters(n_epochs='auto', batch_size='auto', learning_rate_multiplier='auto'), model='gpt-4o-2024-08-06', object='fine_tuning.job', organization_id='org-S652ryxRoR0nJQpnMy7g1xcm', result_files=[], seed=725118792, status='validating_files', trained_tokens=None, training_file='file-UZnEg2gbXFOT3gAzTO49nvZu', validation_file='file-HfQI7URTIErIFD8ZlqlkRlkv', estimated_finish=None, integrations=[], user_provided_suffix=None)"
      ]
     },
     "execution_count": 35,
     "metadata": {},
     "output_type": "execute_result"
    }
   ],
   "source": [
    "client.fine_tuning.jobs.create(\n",
    "    training_file=\"file-UZnEg2gbXFOT3gAzTO49nvZu\",\n",
    "    validation_file=\"file-HfQI7URTIErIFD8ZlqlkRlkv\",\n",
    "    model=\"gpt-3.5-turbo-0125\"\n",
    ")"
   ]
  },
  {
   "cell_type": "code",
   "execution_count": 13,
   "metadata": {},
   "outputs": [
    {
     "data": {
      "text/plain": [
       "FineTuningJob(id='ftjob-Mymd6RM7VvSJwOVBBpqNwx5p', created_at=1727979309, error=Error(code=None, message=None, param=None), fine_tuned_model='ft:gpt-4o-2024-08-06:personal::AELSRgXJ', finished_at=1727982438, hyperparameters=Hyperparameters(n_epochs=1, batch_size=10, learning_rate_multiplier=2), model='gpt-4o-2024-08-06', object='fine_tuning.job', organization_id='org-S652ryxRoR0nJQpnMy7g1xcm', result_files=['file-5gCTWySFk0MgmOZ2YjQvyEZJ'], seed=69129836, status='succeeded', trained_tokens=1277205, training_file='file-FpwsaDITa0co3Z4sNvzknGGX', validation_file=None, estimated_finish=None, integrations=[], user_provided_suffix=None)"
      ]
     },
     "execution_count": 13,
     "metadata": {},
     "output_type": "execute_result"
    }
   ],
   "source": [
    "client.fine_tuning.jobs.retrieve(\"ftjob-Mymd6RM7VvSJwOVBBpqNwx5p\")"
   ]
  }
 ],
 "metadata": {
  "kernelspec": {
   "display_name": "env",
   "language": "python",
   "name": "python3"
  },
  "language_info": {
   "codemirror_mode": {
    "name": "ipython",
    "version": 3
   },
   "file_extension": ".py",
   "mimetype": "text/x-python",
   "name": "python",
   "nbconvert_exporter": "python",
   "pygments_lexer": "ipython3",
   "version": "3.10.11"
  }
 },
 "nbformat": 4,
 "nbformat_minor": 2
}
